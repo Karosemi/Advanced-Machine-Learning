{
 "cells": [
  {
   "cell_type": "markdown",
   "metadata": {},
   "source": [
    "# ECG classification: tasks annotations\n",
    "## course: Advanced Machine Learning\n",
    "### author: Karolina Schmidt"
   ]
  },
  {
   "cell_type": "markdown",
   "metadata": {},
   "source": [
    "# Tasks to do \n",
    "Please choose and complete just **one** of them:\n",
    "1. Modify classifier to get **accuracy > 0.57** for both Acc_T *and* Acc_A\n",
    "> - play with classifier hyperparameters\n",
    "> - add some other features, e.g:\n",
    ">> - [mean of absolute value (MAV) of signal](https://www.researchgate.net/publication/46147272_Sequential_algorithm_for_life_threatening_cardiac_pathologies_detection_based_on_mean_signal_strength_and_EMD_functions)\n",
    ">> - signal energy/entropy\n",
    ">> - some other signal features from [scipy signal](https://docs.scipy.org/doc/scipy/reference/signal.html#peak-finding), \n",
    ">> - **in case of troubles:** distances between previous and next heartbeats are strong features, see e.g. [here](https://link.springer.com/article/10.1007/s11760-009-0136-1),\n",
    ">> - it may be also usefull to perform some feature selection, e.g. choose these with variance higher than some assumed threshold (*intuition*: variance measures amount of information in a given feature), or use *model.feature_importances_* attribute (for more see [here](https://scikit-learn.org/stable/modules/feature_selection.html))\n",
    "> - or build your own classifier (e.g. deep-neural-like) \n",
    "2. Compare results for Random Forest with AdaBoost classifier\n",
    "> - try to figure out why the default Ada setup won't work\n",
    "> - and fix this problem (hint: resampling)\n",
    "3. Add deep-neural classifier (like one in previous lab) and compare its preformance with today's best classifier\n",
    "> - at first you should create *torch.utils.data.DataLoader* object, see [here](https://stanford.edu/~shervine/blog/pytorch-how-to-generate-data-parallel)"
   ]
  },
  {
   "cell_type": "code",
   "execution_count": 1,
   "metadata": {
    "colab": {
     "base_uri": "https://localhost:8080/"
    },
    "id": "LX0MPWFlvChQ",
    "outputId": "017cb6de-6a12-4aeb-a6c8-95f153c8a9a3"
   },
   "outputs": [
    {
     "name": "stdout",
     "output_type": "stream",
     "text": [
      "Looking in indexes: https://pypi.org/simple, https://us-python.pkg.dev/colab-wheels/public/simple/\n",
      "Requirement already satisfied: wfdb in /usr/local/lib/python3.7/dist-packages (3.4.1)\n",
      "Requirement already satisfied: requests>=2.8.1 in /usr/local/lib/python3.7/dist-packages (from wfdb) (2.23.0)\n",
      "Requirement already satisfied: scipy>=0.17.0 in /usr/local/lib/python3.7/dist-packages (from wfdb) (1.4.1)\n",
      "Requirement already satisfied: pandas>=0.17.0 in /usr/local/lib/python3.7/dist-packages (from wfdb) (1.3.5)\n",
      "Requirement already satisfied: matplotlib>=3.3.4 in /usr/local/lib/python3.7/dist-packages (from wfdb) (3.5.2)\n",
      "Requirement already satisfied: numpy>=1.10.1 in /usr/local/lib/python3.7/dist-packages (from wfdb) (1.21.6)\n",
      "Requirement already satisfied: fonttools>=4.22.0 in /usr/local/lib/python3.7/dist-packages (from matplotlib>=3.3.4->wfdb) (4.33.3)\n",
      "Requirement already satisfied: cycler>=0.10 in /usr/local/lib/python3.7/dist-packages (from matplotlib>=3.3.4->wfdb) (0.11.0)\n",
      "Requirement already satisfied: pillow>=6.2.0 in /usr/local/lib/python3.7/dist-packages (from matplotlib>=3.3.4->wfdb) (7.1.2)\n",
      "Requirement already satisfied: pyparsing>=2.2.1 in /usr/local/lib/python3.7/dist-packages (from matplotlib>=3.3.4->wfdb) (3.0.9)\n",
      "Requirement already satisfied: python-dateutil>=2.7 in /usr/local/lib/python3.7/dist-packages (from matplotlib>=3.3.4->wfdb) (2.8.2)\n",
      "Requirement already satisfied: kiwisolver>=1.0.1 in /usr/local/lib/python3.7/dist-packages (from matplotlib>=3.3.4->wfdb) (1.4.3)\n",
      "Requirement already satisfied: packaging>=20.0 in /usr/local/lib/python3.7/dist-packages (from matplotlib>=3.3.4->wfdb) (21.3)\n",
      "Requirement already satisfied: typing-extensions in /usr/local/lib/python3.7/dist-packages (from kiwisolver>=1.0.1->matplotlib>=3.3.4->wfdb) (4.1.1)\n",
      "Requirement already satisfied: pytz>=2017.3 in /usr/local/lib/python3.7/dist-packages (from pandas>=0.17.0->wfdb) (2022.1)\n",
      "Requirement already satisfied: six>=1.5 in /usr/local/lib/python3.7/dist-packages (from python-dateutil>=2.7->matplotlib>=3.3.4->wfdb) (1.15.0)\n",
      "Requirement already satisfied: idna<3,>=2.5 in /usr/local/lib/python3.7/dist-packages (from requests>=2.8.1->wfdb) (2.10)\n",
      "Requirement already satisfied: certifi>=2017.4.17 in /usr/local/lib/python3.7/dist-packages (from requests>=2.8.1->wfdb) (2022.6.15)\n",
      "Requirement already satisfied: chardet<4,>=3.0.2 in /usr/local/lib/python3.7/dist-packages (from requests>=2.8.1->wfdb) (3.0.4)\n",
      "Requirement already satisfied: urllib3!=1.25.0,!=1.25.1,<1.26,>=1.21.1 in /usr/local/lib/python3.7/dist-packages (from requests>=2.8.1->wfdb) (1.24.3)\n"
     ]
    }
   ],
   "source": [
    "!pip install wfdb"
   ]
  },
  {
   "cell_type": "code",
   "execution_count": 2,
   "metadata": {
    "id": "xTEIRPqavK-e"
   },
   "outputs": [],
   "source": [
    "import wfdb\n",
    "import os\n",
    "import numpy as np\n",
    "import matplotlib.pyplot as plt"
   ]
  },
  {
   "cell_type": "code",
   "execution_count": 3,
   "metadata": {
    "id": "raJ9CyW9vLil"
   },
   "outputs": [],
   "source": [
    "from sklearn.ensemble import RandomForestClassifier, ExtraTreesClassifier, AdaBoostClassifier\n",
    "from sklearn import preprocessing\n",
    "from sklearn.model_selection import train_test_split\n",
    "from sklearn.tree import DecisionTreeClassifier\n",
    "from sklearn.naive_bayes import GaussianNB\n",
    "from sklearn import svm\n",
    "from sklearn.preprocessing import OneHotEncoder\n",
    "from keras import models\n",
    "from keras import layers, losses\n",
    "from tensorflow.keras.optimizers import Adam, SGD\n",
    "from tensorflow.keras.optimizers.schedules import ExponentialDecay\n",
    "from sklearn.utils import class_weight"
   ]
  },
  {
   "cell_type": "code",
   "execution_count": 4,
   "metadata": {
    "id": "jsDoYRb6Lpvd"
   },
   "outputs": [],
   "source": [
    "plt.style.use('seaborn')"
   ]
  },
  {
   "cell_type": "markdown",
   "metadata": {
    "id": "cDe0R9_hE0QP"
   },
   "source": [
    "## Data processing\n",
    "I select much broad time window, because I want to make Fourier transform, and I need to have all frequencies in good quality. Additional I multiply Fourier transorm by Hamming Window with twice time window (time_window*2). I got better frequency quality after make operation of convolution with signal with hamming window (which basically is its  multiplication of Fouriers of both )."
   ]
  },
  {
   "cell_type": "code",
   "execution_count": 6,
   "metadata": {
    "id": "PfcDshbDvcJg"
   },
   "outputs": [],
   "source": [
    "def get_window_data(time_window=40):\n",
    "  svdb_in_files = get_raw_data()\n",
    "  all_beats = []\n",
    "  all_annotations = []\n",
    "  for in_file in svdb_in_files:\n",
    "      # print('...processing...' + in_file + '...file')\n",
    "      svdb_dir = os.path.join(os.getcwd(), 'svdb_dir')\n",
    "      signal, fields = wfdb.rdsamp(os.path.join(svdb_dir,in_file), channels=[0])\n",
    "      annotations = wfdb.rdann(os.path.join(svdb_dir,in_file), 'atr')\n",
    "      signal=np.array(signal).flatten()\n",
    "      # grab subsequent heartbeats within [position-64,position+64] window\n",
    "      beats = np.zeros((len(annotations.sample),time_window*2))\n",
    "      # note that we remove first and last beats to ensure that all beats have equal lengths\n",
    "      for i, ann_position in enumerate(annotations.sample[5:-5]):\n",
    "          beats[i] = signal[ann_position-time_window:ann_position+time_window]\n",
    "      all_beats.append(beats)\n",
    "      # consequently, we remove few first and last annotations\n",
    "      all_annotations.append(annotations.symbol[5:-5])\n",
    "\n",
    "  all_beats = np.concatenate(all_beats)\n",
    "  all_annotations = np.concatenate(all_annotations)\n",
    "  indices = [i for i, ann in enumerate(all_annotations) if ann in {'N','S','V'}]\n",
    "  all_beats = all_beats[indices]\n",
    "  all_annotations = np.array([all_annotations[i] for i in indices])\n",
    "  print(all_beats.shape, all_annotations.shape)\n",
    "\n",
    "  print('no of N beats: ' + str(np.count_nonzero(all_annotations == 'N')))\n",
    "  print('no of S beats: ' + str(np.count_nonzero(all_annotations == 'S')))\n",
    "  print('no of V beats: ' + str(np.count_nonzero(all_annotations == 'V')))\n",
    "  return all_beats, all_annotations\n",
    "\n",
    "def get_raw_data():\n",
    "  dbs = wfdb.get_dbs()\n",
    "  svdb_dir = os.path.join(os.getcwd(), 'svdb_dir')\n",
    "  wfdb.dl_database('svdb', dl_dir=svdb_dir)\n",
    "  svdb_in_files = [os.path.splitext(f)[0] for f in os.listdir(svdb_dir) if f.endswith('.dat')]\n",
    "  return svdb_in_files\n",
    "\n",
    "\n",
    "def calc_abs_fft_window(signal, response):\n",
    "  fft =  np.fft.fft(signal)\n",
    "  prod = fft*response\n",
    "  real = np.real(prod)[:len(prod)//2] \n",
    "  imag = np.imag(prod)[len(prod)//2:] \n",
    "  return np.concatenate([real, imag], axis=0)\n",
    "\n",
    "def generate_fft_samples(all_beats, sample_rate=360, w_size=80):\n",
    "  n = all_beats[0].shape[0]\n",
    "  window = np.hamming(w_size)\n",
    "  A = np.fft.fft(window, n)\n",
    "  mag = np.abs(np.fft.fftshift(A))\n",
    "  freq = np.linspace(-0.5, 0.5, len(A))\n",
    "  response = 20 * np.log10(mag)\n",
    "  response = np.clip(response, -100, 100)\n",
    "  all_fft = []\n",
    "  for one_beat in all_beats:\n",
    "    all_fft.append(calc_abs_fft_window(one_beat, response))\n",
    "  return all_fft\n",
    "\n",
    "\n",
    "# cats_ = encoder.categories_[0]\n",
    "\n",
    "def calculate_accuracy(y_pred, y_test, categories, comment='', printout=True, network=False):\n",
    "    total = 'Total'\n",
    "    classes_dict = {cat: [0, 0] for cat in categories}\n",
    "    classes_dict[total] = [0, 0]\n",
    "    total_count = 0\n",
    "    for i, one_pred in enumerate(y_pred):\n",
    "      one_test = y_test[i]\n",
    "      if network:\n",
    "        one_pred = categories[np.argmax(one_pred)]\n",
    "        one_test = categories[np.argmax(one_test)]\n",
    "      if one_pred == one_test:\n",
    "        classes_dict[one_test][0] += 1\n",
    "        classes_dict[total][0] += 1\n",
    "      classes_dict[one_test][1] += 1\n",
    "      classes_dict[total][1] += 1\n",
    "    \n",
    "    acc_t = classes_dict[total][0]/classes_dict[total][1]\n",
    "    acc_a = (classes_dict['V'][0] + classes_dict['S'][0])/(classes_dict['V'][1] + classes_dict['S'][1])\n",
    "    print(classes_dict)\n",
    "    print('-----------------------------------')    \n",
    "    print(comment)\n",
    "    print(f\"Accuracy for N: {classes_dict['N'][0]/classes_dict['N'][1]}\")\n",
    "    print(f\"Accuracy for V: {classes_dict['V'][0]/classes_dict['V'][1]}\")\n",
    "    print(f\"Accuracy for S: {classes_dict['S'][0]/classes_dict['S'][1]}\")\n",
    "    print('Total accuracy, Acc_T = {:.4f}'.format(acc_t))\n",
    "    print('Arrhythmia accuracy, Acc_A = {:.4f}'.format(acc_a))\n",
    "    print('-----------------------------------')\n",
    "    return acc_t, acc_a \n",
    "\n",
    "def get_cut_data(all_x, all_y, max_biggest=15e3):\n",
    "  biggest_name = 'N'\n",
    "  x_cut = []\n",
    "  y_cut = []\n",
    "  x_rest = []\n",
    "  y_rest = []\n",
    "  k = 0\n",
    "  for i, one_y in enumerate(all_y):\n",
    "      if one_y == biggest_name and k < max_biggest:\n",
    "        y_cut.append(one_y)\n",
    "        x_cut.append(all_x[i])\n",
    "        k += 1\n",
    "      elif one_y != biggest_name:\n",
    "        y_cut.append(one_y)\n",
    "        x_cut.append(all_x[i])\n",
    "      else:\n",
    "        y_rest.append(one_y)\n",
    "        x_rest.append(all_x[i])\n",
    "  return x_cut, y_cut, x_rest, y_rest\n",
    "\n",
    "def train_val_test_split(X, y, test_size=0.15, val_size=0.15, random_state=0):\n",
    "  X_train, X_test, y_train, y_test = train_test_split(X, y, test_size=0.15, random_state=random_state)\n",
    "  X_train, X_val, y_train, y_val = train_test_split(X_train, y_train, test_size=val_size, random_state=random_state)\n",
    "  return X_train, X_val, X_test, y_train, y_val, y_test\n"
   ]
  },
  {
   "cell_type": "code",
   "execution_count": 7,
   "metadata": {
    "colab": {
     "base_uri": "https://localhost:8080/"
    },
    "id": "Rb1xGlg1xLkw",
    "outputId": "9347ba82-0175-419f-e083-d65ebd84e8bc"
   },
   "outputs": [
    {
     "name": "stdout",
     "output_type": "stream",
     "text": [
      "Generating record list for: 800\n",
      "Generating record list for: 801\n",
      "Generating record list for: 802\n",
      "Generating record list for: 803\n",
      "Generating record list for: 804\n",
      "Generating record list for: 805\n",
      "Generating record list for: 806\n",
      "Generating record list for: 807\n",
      "Generating record list for: 808\n",
      "Generating record list for: 809\n",
      "Generating record list for: 810\n",
      "Generating record list for: 811\n",
      "Generating record list for: 812\n",
      "Generating record list for: 820\n",
      "Generating record list for: 821\n",
      "Generating record list for: 822\n",
      "Generating record list for: 823\n",
      "Generating record list for: 824\n",
      "Generating record list for: 825\n",
      "Generating record list for: 826\n",
      "Generating record list for: 827\n",
      "Generating record list for: 828\n",
      "Generating record list for: 829\n",
      "Generating record list for: 840\n",
      "Generating record list for: 841\n",
      "Generating record list for: 842\n",
      "Generating record list for: 843\n",
      "Generating record list for: 844\n",
      "Generating record list for: 845\n",
      "Generating record list for: 846\n",
      "Generating record list for: 847\n",
      "Generating record list for: 848\n",
      "Generating record list for: 849\n",
      "Generating record list for: 850\n",
      "Generating record list for: 851\n",
      "Generating record list for: 852\n",
      "Generating record list for: 853\n",
      "Generating record list for: 854\n",
      "Generating record list for: 855\n",
      "Generating record list for: 856\n",
      "Generating record list for: 857\n",
      "Generating record list for: 858\n",
      "Generating record list for: 859\n",
      "Generating record list for: 860\n",
      "Generating record list for: 861\n",
      "Generating record list for: 862\n",
      "Generating record list for: 863\n",
      "Generating record list for: 864\n",
      "Generating record list for: 865\n",
      "Generating record list for: 866\n",
      "Generating record list for: 867\n",
      "Generating record list for: 868\n",
      "Generating record list for: 869\n",
      "Generating record list for: 870\n",
      "Generating record list for: 871\n",
      "Generating record list for: 872\n",
      "Generating record list for: 873\n",
      "Generating record list for: 874\n",
      "Generating record list for: 875\n",
      "Generating record list for: 876\n",
      "Generating record list for: 877\n",
      "Generating record list for: 878\n",
      "Generating record list for: 879\n",
      "Generating record list for: 880\n",
      "Generating record list for: 881\n",
      "Generating record list for: 882\n",
      "Generating record list for: 883\n",
      "Generating record list for: 884\n",
      "Generating record list for: 885\n",
      "Generating record list for: 886\n",
      "Generating record list for: 887\n",
      "Generating record list for: 888\n",
      "Generating record list for: 889\n",
      "Generating record list for: 890\n",
      "Generating record list for: 891\n",
      "Generating record list for: 892\n",
      "Generating record list for: 893\n",
      "Generating record list for: 894\n",
      "Generating list of all files for: 800\n",
      "Generating list of all files for: 801\n",
      "Generating list of all files for: 802\n",
      "Generating list of all files for: 803\n",
      "Generating list of all files for: 804\n",
      "Generating list of all files for: 805\n",
      "Generating list of all files for: 806\n",
      "Generating list of all files for: 807\n",
      "Generating list of all files for: 808\n",
      "Generating list of all files for: 809\n",
      "Generating list of all files for: 810\n",
      "Generating list of all files for: 811\n",
      "Generating list of all files for: 812\n",
      "Generating list of all files for: 820\n",
      "Generating list of all files for: 821\n",
      "Generating list of all files for: 822\n",
      "Generating list of all files for: 823\n",
      "Generating list of all files for: 824\n",
      "Generating list of all files for: 825\n",
      "Generating list of all files for: 826\n",
      "Generating list of all files for: 827\n",
      "Generating list of all files for: 828\n",
      "Generating list of all files for: 829\n",
      "Generating list of all files for: 840\n",
      "Generating list of all files for: 841\n",
      "Generating list of all files for: 842\n",
      "Generating list of all files for: 843\n",
      "Generating list of all files for: 844\n",
      "Generating list of all files for: 845\n",
      "Generating list of all files for: 846\n",
      "Generating list of all files for: 847\n",
      "Generating list of all files for: 848\n",
      "Generating list of all files for: 849\n",
      "Generating list of all files for: 850\n",
      "Generating list of all files for: 851\n",
      "Generating list of all files for: 852\n",
      "Generating list of all files for: 853\n",
      "Generating list of all files for: 854\n",
      "Generating list of all files for: 855\n",
      "Generating list of all files for: 856\n",
      "Generating list of all files for: 857\n",
      "Generating list of all files for: 858\n",
      "Generating list of all files for: 859\n",
      "Generating list of all files for: 860\n",
      "Generating list of all files for: 861\n",
      "Generating list of all files for: 862\n",
      "Generating list of all files for: 863\n",
      "Generating list of all files for: 864\n",
      "Generating list of all files for: 865\n",
      "Generating list of all files for: 866\n",
      "Generating list of all files for: 867\n",
      "Generating list of all files for: 868\n",
      "Generating list of all files for: 869\n",
      "Generating list of all files for: 870\n",
      "Generating list of all files for: 871\n",
      "Generating list of all files for: 872\n",
      "Generating list of all files for: 873\n",
      "Generating list of all files for: 874\n",
      "Generating list of all files for: 875\n",
      "Generating list of all files for: 876\n",
      "Generating list of all files for: 877\n",
      "Generating list of all files for: 878\n",
      "Generating list of all files for: 879\n",
      "Generating list of all files for: 880\n",
      "Generating list of all files for: 881\n",
      "Generating list of all files for: 882\n",
      "Generating list of all files for: 883\n",
      "Generating list of all files for: 884\n",
      "Generating list of all files for: 885\n",
      "Generating list of all files for: 886\n",
      "Generating list of all files for: 887\n",
      "Generating list of all files for: 888\n",
      "Generating list of all files for: 889\n",
      "Generating list of all files for: 890\n",
      "Generating list of all files for: 891\n",
      "Generating list of all files for: 892\n",
      "Generating list of all files for: 893\n",
      "Generating list of all files for: 894\n",
      "Downloading files...\n",
      "Finished downloading files\n",
      "(183707, 160) (183707,)\n",
      "no of N beats: 161653\n",
      "no of S beats: 12146\n",
      "no of V beats: 9908\n"
     ]
    }
   ],
   "source": [
    "time_window = 40*2 # the best spectrum\n",
    "all_beats, all_annotations = get_window_data(time_window)\n"
   ]
  },
  {
   "cell_type": "code",
   "execution_count": 8,
   "metadata": {
    "colab": {
     "base_uri": "https://localhost:8080/",
     "height": 240
    },
    "id": "NNvHNeQGvVcp",
    "outputId": "6f630866-39fb-4449-d0ef-07dd790c097d"
   },
   "outputs": [
    {
     "data": {
      "image/png": "[encoded data removed]",
      "text/plain": [
       "<Figure size 1080x216 with 3 Axes>"
      ]
     },
     "metadata": {},
     "output_type": "display_data"
    }
   ],
   "source": [
    "fig, ax = plt.subplots(1,3)\n",
    "fig.set_size_inches(15, 3)\n",
    "plt.subplots_adjust(wspace=0.2)\n",
    "sample_number = [6,15000,25000]\n",
    "for i, sn in enumerate(sample_number):\n",
    "    ax[i].plot(all_beats[sn])\n",
    "    ax[i].set(xlabel='time', ylabel='ecg signal', title='beat type ' + all_annotations[sn])\n",
    "plt.show()"
   ]
  },
  {
   "cell_type": "code",
   "execution_count": 9,
   "metadata": {
    "id": "Qb2oe3jGikBC"
   },
   "outputs": [],
   "source": [
    "all_fft = generate_fft_samples(all_beats)"
   ]
  },
  {
   "cell_type": "code",
   "execution_count": 10,
   "metadata": {
    "colab": {
     "base_uri": "https://localhost:8080/",
     "height": 365
    },
    "id": "RR9_6ZuJikwD",
    "outputId": "434fcf54-e783-4fb2-b835-80c93b978238"
   },
   "outputs": [
    {
     "data": {
      "text/plain": [
       "[<matplotlib.lines.Line2D at 0x7ff88014e390>]"
      ]
     },
     "execution_count": 10,
     "metadata": {},
     "output_type": "execute_result"
    },
    {
     "data": {
      "image/png": "[encoded data removed]",
      "text/plain": [
       "<Figure size 576x396 with 1 Axes>"
      ]
     },
     "metadata": {},
     "output_type": "display_data"
    }
   ],
   "source": [
    "one_fft = all_fft[6]\n",
    "plt.plot(one_fft)"
   ]
  },
  {
   "cell_type": "markdown",
   "metadata": {
    "id": "0-Rn1wNjSpzR"
   },
   "source": [
    "# Without fft"
   ]
  },
  {
   "cell_type": "code",
   "execution_count": 11,
   "metadata": {
    "id": "H5c7Ip1WSfRq"
   },
   "outputs": [],
   "source": [
    "X, y = all_beats[::5], all_annotations[::5] \n",
    "X_train, X_val, X_test, y_train, y_val, y_test = train_val_test_split(X, y, test_size=0.15, val_size=0.15, random_state=0)\n",
    "scaler = preprocessing.StandardScaler().fit(X_train)\n",
    "X_train = scaler.transform(X_train)\n",
    "# same for the validation subset\n",
    "X_val = preprocessing.StandardScaler().fit_transform(X_val)\n",
    "# and for the test subset\n",
    "X_test = preprocessing.StandardScaler().fit_transform(X_test)\n"
   ]
  },
  {
   "cell_type": "code",
   "execution_count": 12,
   "metadata": {
    "id": "srZxucBMTn9g"
   },
   "outputs": [],
   "source": [
    "categories = np.unique(y_train)"
   ]
  },
  {
   "cell_type": "code",
   "execution_count": 13,
   "metadata": {
    "colab": {
     "base_uri": "https://localhost:8080/"
    },
    "id": "XA0Mgmg1SnfJ",
    "outputId": "20c8d6de-c5af-4170-9c1d-4575133729b4"
   },
   "outputs": [
    {
     "name": "stdout",
     "output_type": "stream",
     "text": [
      "{'N': [4033, 4808], 'S': [86, 401], 'V': [73, 303], 'Total': [4192, 5512]}\n",
      "-----------------------------------\n",
      "naive Bayes classifier\n",
      "Accuracy for N: 0.8388103161397671\n",
      "Accuracy for V: 0.24092409240924093\n",
      "Accuracy for S: 0.2144638403990025\n",
      "Total accuracy, Acc_T = 0.7605\n",
      "Arrhythmia accuracy, Acc_A = 0.2259\n",
      "-----------------------------------\n",
      "{'N': [4804, 4808], 'S': [52, 401], 'V': [0, 303], 'Total': [4856, 5512]}\n",
      "-----------------------------------\n",
      "SVM classifier\n",
      "Accuracy for N: 0.9991680532445923\n",
      "Accuracy for V: 0.0\n",
      "Accuracy for S: 0.12967581047381546\n",
      "Total accuracy, Acc_T = 0.8810\n",
      "Arrhythmia accuracy, Acc_A = 0.0739\n",
      "-----------------------------------\n",
      "weights: [0.37967532 4.96260983 6.07298101]\n",
      "{'N': [3395, 4808], 'S': [183, 401], 'V': [122, 303], 'Total': [3700, 5512]}\n",
      "-----------------------------------\n",
      "balanced SVM classifier\n",
      "Accuracy for N: 0.7061148086522463\n",
      "Accuracy for V: 0.40264026402640263\n",
      "Accuracy for S: 0.456359102244389\n",
      "Total accuracy, Acc_T = 0.6713\n",
      "Arrhythmia accuracy, Acc_A = 0.4332\n",
      "-----------------------------------\n",
      "{'N': [3285, 4808], 'S': [72, 401], 'V': [161, 303], 'Total': [3518, 5512]}\n",
      "-----------------------------------\n",
      "Random Forest classifier\n",
      "Accuracy for N: 0.6832362728785357\n",
      "Accuracy for V: 0.5313531353135313\n",
      "Accuracy for S: 0.17955112219451372\n",
      "Total accuracy, Acc_T = 0.6382\n",
      "Arrhythmia accuracy, Acc_A = 0.3310\n",
      "-----------------------------------\n"
     ]
    },
    {
     "name": "stderr",
     "output_type": "stream",
     "text": [
      "/usr/local/lib/python3.7/dist-packages/sklearn/ensemble/_forest.py:766: UserWarning: class_weight presets \"balanced\" or \"balanced_subsample\" are not recommended for warm_start if the fitted data differs from the full dataset. In order to use \"balanced\" weights, use compute_class_weight (\"balanced\", classes, y). In place of y you can use a large enough sample of the full training set target to properly estimate the class frequency distributions. Pass the resulting weights as the class_weight parameter.\n",
      "  'class_weight presets \"balanced\" or '\n"
     ]
    },
    {
     "name": "stdout",
     "output_type": "stream",
     "text": [
      "{'N': [4801, 4808], 'S': [54, 401], 'V': [2, 303], 'Total': [4857, 5512]}\n",
      "-----------------------------------\n",
      "Extra Trees classifier\n",
      "Accuracy for N: 0.9985440931780366\n",
      "Accuracy for V: 0.006600660066006601\n",
      "Accuracy for S: 0.13466334164588528\n",
      "Total accuracy, Acc_T = 0.8812\n",
      "Arrhythmia accuracy, Acc_A = 0.0795\n",
      "-----------------------------------\n",
      "{'N': [4792, 4808], 'S': [47, 401], 'V': [0, 303], 'Total': [4839, 5512]}\n",
      "-----------------------------------\n",
      "Ada boost\n",
      "Accuracy for N: 0.9966722129783694\n",
      "Accuracy for V: 0.0\n",
      "Accuracy for S: 0.1172069825436409\n",
      "Total accuracy, Acc_T = 0.8779\n",
      "Arrhythmia accuracy, Acc_A = 0.0668\n",
      "-----------------------------------\n"
     ]
    },
    {
     "data": {
      "text/plain": [
       "(0.8779027576197388, 0.06676136363636363)"
      ]
     },
     "execution_count": 13,
     "metadata": {},
     "output_type": "execute_result"
    }
   ],
   "source": [
    "gnb = GaussianNB()\n",
    "y_pred = gnb.fit(X_train, y_train).predict(X_test)\n",
    "calculate_accuracy(y_pred, y_test, categories, comment='naive Bayes classifier')\n",
    "\n",
    "svc = svm.SVC()\n",
    "y_pred = svc.fit(X_train, y_train).predict(X_test)\n",
    "calculate_accuracy(y_pred, y_test, categories, comment='SVM classifier')\n",
    "\n",
    "svc = svm.SVC(class_weight='balanced')\n",
    "y_pred = svc.fit(X_train, y_train).predict(X_test)\n",
    "print(f\"weights: {svc.class_weight_}\")\n",
    "calculate_accuracy(y_pred, y_test, categories, comment='balanced SVM classifier')\n",
    "\n",
    "\n",
    "rfc = RandomForestClassifier(n_estimators=150, max_depth=3, random_state=0, class_weight='balanced')\n",
    "y_pred = rfc.fit(X_train, y_train).predict(X_test)\n",
    "calculate_accuracy(y_pred, y_test, categories, comment='Random Forest classifier')\n",
    "\n",
    "etc = ExtraTreesClassifier(n_estimators=300, random_state=0,class_weight='balanced', warm_start=True)\n",
    "y_pred = etc.fit(X_train, y_train).predict(X_test)\n",
    "calculate_accuracy(y_pred, y_test, categories, comment='Extra Trees classifier')\n",
    "\n",
    "abc = AdaBoostClassifier()\n",
    "y_pred = abc.fit(X_train, y_train).predict(X_test)\n",
    "calculate_accuracy(y_pred, y_test, categories, comment='Ada boost')"
   ]
  },
  {
   "cell_type": "code",
   "execution_count": 14,
   "metadata": {
    "id": "vFj_vNgPSmwj"
   },
   "outputs": [],
   "source": [
    "all_fft = generate_fft_samples(all_beats, w_size=time_window)\n",
    "X, y = all_fft[::5], all_annotations[::5] \n",
    "X_train, X_val, X_test, y_train, y_val, y_test = train_val_test_split(X, y, test_size=0.15, val_size=0.15, random_state=0)\n",
    "scaler = preprocessing.StandardScaler().fit(X_train)\n",
    "X_train = scaler.transform(X_train)\n",
    "# same for the validation subset\n",
    "X_val = preprocessing.StandardScaler().fit_transform(X_val)\n",
    "# and for the test subset\n",
    "X_test = preprocessing.StandardScaler().fit_transform(X_test)\n"
   ]
  },
  {
   "cell_type": "code",
   "execution_count": 15,
   "metadata": {
    "id": "ZdgBQenFIjjf"
   },
   "outputs": [],
   "source": [
    "categories = np.unique(y_train)"
   ]
  },
  {
   "cell_type": "code",
   "execution_count": 16,
   "metadata": {
    "colab": {
     "base_uri": "https://localhost:8080/"
    },
    "id": "NHHo21-N5xGK",
    "outputId": "bad3c5ee-a63b-406c-a535-d0bae872f15d"
   },
   "outputs": [
    {
     "name": "stdout",
     "output_type": "stream",
     "text": [
      "{'N': [3772, 4808], 'S': [93, 401], 'V': [87, 303], 'Total': [3952, 5512]}\n",
      "-----------------------------------\n",
      "naive Bayes classifier\n",
      "Accuracy for N: 0.7845257903494176\n",
      "Accuracy for V: 0.2871287128712871\n",
      "Accuracy for S: 0.23192019950124687\n",
      "Total accuracy, Acc_T = 0.7170\n",
      "Arrhythmia accuracy, Acc_A = 0.2557\n",
      "-----------------------------------\n",
      "{'N': [4806, 4808], 'S': [37, 401], 'V': [0, 303], 'Total': [4843, 5512]}\n",
      "-----------------------------------\n",
      "SVM classifier\n",
      "Accuracy for N: 0.9995840266222962\n",
      "Accuracy for V: 0.0\n",
      "Accuracy for S: 0.09226932668329177\n",
      "Total accuracy, Acc_T = 0.8786\n",
      "Arrhythmia accuracy, Acc_A = 0.0526\n",
      "-----------------------------------\n",
      "{'N': [3697, 4808], 'S': [142, 401], 'V': [98, 303], 'Total': [3937, 5512]}\n",
      "-----------------------------------\n",
      "balanced SVM classifier\n",
      "Accuracy for N: 0.7689267886855241\n",
      "Accuracy for V: 0.3234323432343234\n",
      "Accuracy for S: 0.3541147132169576\n",
      "Total accuracy, Acc_T = 0.7143\n",
      "Arrhythmia accuracy, Acc_A = 0.3409\n",
      "-----------------------------------\n",
      "{'N': [3169, 4808], 'S': [119, 401], 'V': [146, 303], 'Total': [3434, 5512]}\n",
      "-----------------------------------\n",
      "Random Forest classifier\n",
      "Accuracy for N: 0.6591098169717138\n",
      "Accuracy for V: 0.48184818481848185\n",
      "Accuracy for S: 0.2967581047381546\n",
      "Total accuracy, Acc_T = 0.6230\n",
      "Arrhythmia accuracy, Acc_A = 0.3764\n",
      "-----------------------------------\n"
     ]
    },
    {
     "name": "stderr",
     "output_type": "stream",
     "text": [
      "/usr/local/lib/python3.7/dist-packages/sklearn/ensemble/_forest.py:766: UserWarning: class_weight presets \"balanced\" or \"balanced_subsample\" are not recommended for warm_start if the fitted data differs from the full dataset. In order to use \"balanced\" weights, use compute_class_weight (\"balanced\", classes, y). In place of y you can use a large enough sample of the full training set target to properly estimate the class frequency distributions. Pass the resulting weights as the class_weight parameter.\n",
      "  'class_weight presets \"balanced\" or '\n"
     ]
    },
    {
     "name": "stdout",
     "output_type": "stream",
     "text": [
      "{'N': [4805, 4808], 'S': [45, 401], 'V': [0, 303], 'Total': [4850, 5512]}\n",
      "-----------------------------------\n",
      "Extra Trees classifier\n",
      "Accuracy for N: 0.9993760399334443\n",
      "Accuracy for V: 0.0\n",
      "Accuracy for S: 0.11221945137157108\n",
      "Total accuracy, Acc_T = 0.8799\n",
      "Arrhythmia accuracy, Acc_A = 0.0639\n",
      "-----------------------------------\n"
     ]
    },
    {
     "name": "stderr",
     "output_type": "stream",
     "text": [
      "/usr/local/lib/python3.7/dist-packages/sklearn/ensemble/_forest.py:766: UserWarning: class_weight presets \"balanced\" or \"balanced_subsample\" are not recommended for warm_start if the fitted data differs from the full dataset. In order to use \"balanced\" weights, use compute_class_weight (\"balanced\", classes, y). In place of y you can use a large enough sample of the full training set target to properly estimate the class frequency distributions. Pass the resulting weights as the class_weight parameter.\n",
      "  'class_weight presets \"balanced\" or '\n",
      "/usr/local/lib/python3.7/dist-packages/sklearn/ensemble/_forest.py:430: UserWarning: Warm-start fitting without increasing n_estimators does not fit new trees.\n",
      "  \"Warm-start fitting without increasing n_estimators does not \"\n"
     ]
    },
    {
     "name": "stdout",
     "output_type": "stream",
     "text": [
      "{'N': [4805, 4808], 'S': [45, 401], 'V': [0, 303], 'Total': [4850, 5512]}\n",
      "-----------------------------------\n",
      "Ada boost\n",
      "Accuracy for N: 0.9993760399334443\n",
      "Accuracy for V: 0.0\n",
      "Accuracy for S: 0.11221945137157108\n",
      "Total accuracy, Acc_T = 0.8799\n",
      "Arrhythmia accuracy, Acc_A = 0.0639\n",
      "-----------------------------------\n"
     ]
    },
    {
     "data": {
      "text/plain": [
       "(0.8798984034833092, 0.06392045454545454)"
      ]
     },
     "execution_count": 16,
     "metadata": {},
     "output_type": "execute_result"
    }
   ],
   "source": [
    "gnb = GaussianNB()\n",
    "y_pred = gnb.fit(X_train, y_train).predict(X_test)\n",
    "calculate_accuracy(y_pred, y_test, categories, comment='naive Bayes classifier')\n",
    "\n",
    "svc = svm.SVC()\n",
    "y_pred = svc.fit(X_train, y_train).predict(X_test)\n",
    "calculate_accuracy(y_pred, y_test, categories, comment='SVM classifier')\n",
    "\n",
    "svc = svm.SVC(class_weight='balanced')\n",
    "y_pred = svc.fit(X_train, y_train).predict(X_test)\n",
    "calculate_accuracy(y_pred, y_test, categories, comment='balanced SVM classifier')\n",
    "\n",
    "\n",
    "rfc = RandomForestClassifier(n_estimators=150, max_depth=3, random_state=0, class_weight='balanced')\n",
    "y_pred = rfc.fit(X_train, y_train).predict(X_test)\n",
    "calculate_accuracy(y_pred, y_test, categories, comment='Random Forest classifier')\n",
    "\n",
    "etc = ExtraTreesClassifier(n_estimators=150, random_state=0,class_weight='balanced', warm_start=True)\n",
    "y_pred = etc.fit(X_train, y_train).predict(X_test)\n",
    "calculate_accuracy(y_pred, y_test, categories, comment='Extra Trees classifier')\n",
    "\n",
    "abc = AdaBoostClassifier()\n",
    "y_pred = etc.fit(X_train, y_train).predict(X_test)\n",
    "calculate_accuracy(y_pred, y_test, categories, comment='Ada boost')"
   ]
  },
  {
   "cell_type": "markdown",
   "metadata": {
    "id": "5Ki1FtqSGJjo"
   },
   "source": [
    "### I reduce data volume by removing most frequent class"
   ]
  },
  {
   "cell_type": "code",
   "execution_count": 17,
   "metadata": {
    "id": "jU5oOvrJfeZE"
   },
   "outputs": [],
   "source": [
    "x_cut, y_cut, x_rest, y_rest = get_cut_data(all_fft, all_annotations, max_biggest=15e3)"
   ]
  },
  {
   "cell_type": "code",
   "execution_count": 18,
   "metadata": {
    "colab": {
     "base_uri": "https://localhost:8080/"
    },
    "id": "JtZSpAOcZCXP",
    "outputId": "0f37c2c1-fbda-4019-ffb6-f5519109428b"
   },
   "outputs": [
    {
     "name": "stdout",
     "output_type": "stream",
     "text": [
      "13384 2363 2780\n"
     ]
    }
   ],
   "source": [
    "X, y = x_cut[::2], y_cut[::2]\n",
    "X_train, X_val, X_test, y_train, y_val, y_test = train_val_test_split(X, y, test_size=0.15, val_size=0.15, random_state=0)\n",
    "print(len(y_train), len(y_val), len(y_test))\n",
    "scaler = preprocessing.StandardScaler().fit(X_train)\n",
    "X_train = scaler.transform(X_train)\n",
    "# same for the validation subset\n",
    "X_val = preprocessing.StandardScaler().fit_transform(X_val)\n",
    "# and for the test subset\n",
    "X_test = preprocessing.StandardScaler().fit_transform(X_test)"
   ]
  },
  {
   "cell_type": "code",
   "execution_count": 19,
   "metadata": {
    "colab": {
     "base_uri": "https://localhost:8080/"
    },
    "id": "e-8zxiH2fVkD",
    "outputId": "1b79a611-cb40-4a23-c57a-4ab8f9e05f29"
   },
   "outputs": [
    {
     "name": "stdout",
     "output_type": "stream",
     "text": [
      "{'N': [890, 1092], 'S': [289, 931], 'V': [263, 757], 'Total': [1442, 2780]}\n",
      "-----------------------------------\n",
      "naive Bayes classifier\n",
      "Accuracy for N: 0.815018315018315\n",
      "Accuracy for V: 0.3474240422721268\n",
      "Accuracy for S: 0.3104189044038668\n",
      "Total accuracy, Acc_T = 0.5187\n",
      "Arrhythmia accuracy, Acc_A = 0.3270\n",
      "-----------------------------------\n",
      "{'N': [963, 1092], 'S': [568, 931], 'V': [444, 757], 'Total': [1975, 2780]}\n",
      "-----------------------------------\n",
      "SVM classifier\n",
      "Accuracy for N: 0.8818681318681318\n",
      "Accuracy for V: 0.5865257595772787\n",
      "Accuracy for S: 0.6100966702470462\n",
      "Total accuracy, Acc_T = 0.7104\n",
      "Arrhythmia accuracy, Acc_A = 0.5995\n",
      "-----------------------------------\n",
      "{'N': [915, 1092], 'S': [552, 931], 'V': [502, 757], 'Total': [1969, 2780]}\n",
      "-----------------------------------\n",
      "balanced SVM classifier\n",
      "Accuracy for N: 0.8379120879120879\n",
      "Accuracy for V: 0.6631439894319683\n",
      "Accuracy for S: 0.5929108485499462\n",
      "Total accuracy, Acc_T = 0.7083\n",
      "Arrhythmia accuracy, Acc_A = 0.6244\n",
      "-----------------------------------\n",
      "{'N': [928, 1092], 'S': [299, 931], 'V': [406, 757], 'Total': [1633, 2780]}\n",
      "-----------------------------------\n",
      "Random Forest classifier\n",
      "Accuracy for N: 0.8498168498168498\n",
      "Accuracy for V: 0.5363276089828269\n",
      "Accuracy for S: 0.32116004296455425\n",
      "Total accuracy, Acc_T = 0.5874\n",
      "Arrhythmia accuracy, Acc_A = 0.4177\n",
      "-----------------------------------\n"
     ]
    },
    {
     "name": "stderr",
     "output_type": "stream",
     "text": [
      "/usr/local/lib/python3.7/dist-packages/sklearn/ensemble/_forest.py:766: UserWarning: class_weight presets \"balanced\" or \"balanced_subsample\" are not recommended for warm_start if the fitted data differs from the full dataset. In order to use \"balanced\" weights, use compute_class_weight (\"balanced\", classes, y). In place of y you can use a large enough sample of the full training set target to properly estimate the class frequency distributions. Pass the resulting weights as the class_weight parameter.\n",
      "  'class_weight presets \"balanced\" or '\n"
     ]
    },
    {
     "name": "stdout",
     "output_type": "stream",
     "text": [
      "{'N': [939, 1092], 'S': [641, 931], 'V': [480, 757], 'Total': [2060, 2780]}\n",
      "-----------------------------------\n",
      "Extra Trees classifier\n",
      "Accuracy for N: 0.8598901098901099\n",
      "Accuracy for V: 0.6340819022457067\n",
      "Accuracy for S: 0.6885069817400644\n",
      "Total accuracy, Acc_T = 0.7410\n",
      "Arrhythmia accuracy, Acc_A = 0.6641\n",
      "-----------------------------------\n",
      "{'N': [929, 1092], 'S': [543, 931], 'V': [310, 757], 'Total': [1782, 2780]}\n",
      "-----------------------------------\n",
      "Ada boost\n",
      "Accuracy for N: 0.8507326007326007\n",
      "Accuracy for V: 0.4095112285336856\n",
      "Accuracy for S: 0.5832438238453276\n",
      "Total accuracy, Acc_T = 0.6410\n",
      "Arrhythmia accuracy, Acc_A = 0.5053\n",
      "-----------------------------------\n"
     ]
    },
    {
     "data": {
      "text/plain": [
       "(0.6410071942446043, 0.5053317535545023)"
      ]
     },
     "execution_count": 19,
     "metadata": {},
     "output_type": "execute_result"
    }
   ],
   "source": [
    "categories = np.unique(y_train)\n",
    "gnb = GaussianNB()\n",
    "y_pred = gnb.fit(X_train, y_train).predict(X_test)\n",
    "calculate_accuracy(y_pred, y_test, categories, comment='naive Bayes classifier')\n",
    "\n",
    "svc = svm.SVC()\n",
    "y_pred = svc.fit(X_train, y_train).predict(X_test)\n",
    "calculate_accuracy(y_pred, y_test, categories, comment='SVM classifier')\n",
    "\n",
    "svc = svm.SVC(class_weight='balanced')\n",
    "y_pred = svc.fit(X_train, y_train).predict(X_test)\n",
    "calculate_accuracy(y_pred, y_test, categories, comment='balanced SVM classifier')\n",
    "\n",
    "\n",
    "rfc = RandomForestClassifier(n_estimators=150, max_depth=3, random_state=0, class_weight='balanced')\n",
    "y_pred = rfc.fit(X_train, y_train).predict(X_test)\n",
    "calculate_accuracy(y_pred, y_test, categories, comment='Random Forest classifier')\n",
    "\n",
    "etc = ExtraTreesClassifier(n_estimators=150, random_state=0,class_weight='balanced', warm_start=True)\n",
    "y_pred = etc.fit(X_train, y_train).predict(X_test)\n",
    "calculate_accuracy(y_pred, y_test, categories, comment='Extra Trees classifier')\n",
    "\n",
    "abc = AdaBoostClassifier()\n",
    "y_pred = abc.fit(X_train, y_train).predict(X_test)\n",
    "calculate_accuracy(y_pred, y_test, categories, comment='Ada boost')"
   ]
  },
  {
   "cell_type": "code",
   "execution_count": 20,
   "metadata": {
    "colab": {
     "base_uri": "https://localhost:8080/"
    },
    "id": "cx_aJ5FzB5lC",
    "outputId": "fe90d9b8-4b4a-4406-e4ef-58cba8409289"
   },
   "outputs": [
    {
     "name": "stdout",
     "output_type": "stream",
     "text": [
      "13384 2363 2780\n"
     ]
    }
   ],
   "source": [
    "# X, y = x_cut, y_cut\n",
    "X_train, X_val, X_test, y_train, y_val, y_test = train_val_test_split(X, y, test_size=0.15, val_size=0.15, random_state=123)\n",
    "# train/validation/test set splitting \n",
    "# X_train, X_test, y_train, y_test = train_test_split(X, y, test_size=0.15, random_state=0)\n",
    "# X_train, X_val, y_train, y_val = train_test_split(X_train, y_train, test_size=0.15/0.85, random_state=0)\n",
    "scaler = preprocessing.StandardScaler().fit(X_train)\n",
    "X_train = scaler.transform(X_train)\n",
    "X_val = preprocessing.StandardScaler().fit_transform(X_val)\n",
    "# and for the test subset\n",
    "X_test = preprocessing.StandardScaler().fit_transform(X_test)\n",
    "y_train = [[ann] for ann in y_train]\n",
    "y_val = [[ann] for ann in y_val]\n",
    "y_test = [[ann] for ann in y_test]\n",
    "encoder = OneHotEncoder(handle_unknown='ignore')\n",
    "encoder.fit(y_train)\n",
    "y_train = encoder.transform(y_train).toarray()\n",
    "y_val = encoder.transform(y_val).toarray()\n",
    "y_test = encoder.transform(y_test).toarray()\n",
    "X_train = np.array(X_train)\n",
    "print(len(y_train), len(y_val), len(y_test))"
   ]
  },
  {
   "cell_type": "code",
   "execution_count": 21,
   "metadata": {
    "id": "jtXh8JJIk36x"
   },
   "outputs": [],
   "source": [
    "cce = losses.CategoricalCrossentropy()\n",
    "opt = SGD(\n",
    "    learning_rate=0.01, momentum=0.0, nesterov=False, name=\"SGD\")\n",
    "def build_model():\n",
    "  model = models.Sequential()\n",
    "  model.add(layers.Dense(32, activation='relu', input_shape=(X_train.shape[1],)))\n",
    "  model.add(layers.Dense(8, activation='relu',))\n",
    "  # model.add(layers.Dropout(0.4,))\n",
    "  # model.add(layers.Dense(16, activation='elu',))\n",
    "  model.add(layers.Dense(3, activation='softmax',))\n",
    "  model.compile(optimizer=opt, loss=cce, metrics=['accuracy'])\n",
    "  return model"
   ]
  },
  {
   "cell_type": "code",
   "execution_count": 22,
   "metadata": {
    "id": "CYEdw1c6lB6B"
   },
   "outputs": [],
   "source": [
    "model = build_model()"
   ]
  },
  {
   "cell_type": "code",
   "execution_count": 23,
   "metadata": {
    "colab": {
     "base_uri": "https://localhost:8080/"
    },
    "id": "xlqnIldymcDx",
    "outputId": "2c460794-5620-470b-a3f4-9ecc04d80be0"
   },
   "outputs": [
    {
     "data": {
      "text/plain": [
       "(13384, 160)"
      ]
     },
     "execution_count": 23,
     "metadata": {},
     "output_type": "execute_result"
    }
   ],
   "source": [
    "X_train.shape"
   ]
  },
  {
   "cell_type": "code",
   "execution_count": 24,
   "metadata": {
    "id": "AdF3Z02Smdjl"
   },
   "outputs": [],
   "source": [
    "y_train = np.array(y_train)\n"
   ]
  },
  {
   "cell_type": "code",
   "execution_count": 25,
   "metadata": {
    "colab": {
     "base_uri": "https://localhost:8080/"
    },
    "id": "G_4VLSr3lDDm",
    "outputId": "5ef27cf3-ba13-4fb8-ef35-923def0eb60b"
   },
   "outputs": [
    {
     "name": "stdout",
     "output_type": "stream",
     "text": [
      "Epoch 1/15\n",
      "419/419 [==============================] - 7s 15ms/step - loss: 1.0822 - accuracy: 0.4491 - val_loss: 0.9897 - val_accuracy: 0.5459\n",
      "Epoch 2/15\n",
      "419/419 [==============================] - 4s 10ms/step - loss: 0.9582 - accuracy: 0.5332 - val_loss: 0.9179 - val_accuracy: 0.5709\n",
      "Epoch 3/15\n",
      "419/419 [==============================] - 4s 10ms/step - loss: 0.8921 - accuracy: 0.5678 - val_loss: 0.8691 - val_accuracy: 0.5887\n",
      "Epoch 4/15\n",
      "419/419 [==============================] - 4s 10ms/step - loss: 0.8398 - accuracy: 0.6010 - val_loss: 0.8336 - val_accuracy: 0.6052\n",
      "Epoch 5/15\n",
      "419/419 [==============================] - 6s 14ms/step - loss: 0.7971 - accuracy: 0.6254 - val_loss: 0.7976 - val_accuracy: 0.6322\n",
      "Epoch 6/15\n",
      "419/419 [==============================] - 4s 10ms/step - loss: 0.7634 - accuracy: 0.6412 - val_loss: 0.7732 - val_accuracy: 0.6445\n",
      "Epoch 7/15\n",
      "419/419 [==============================] - 6s 15ms/step - loss: 0.7355 - accuracy: 0.6541 - val_loss: 0.7531 - val_accuracy: 0.6610\n",
      "Epoch 8/15\n",
      "419/419 [==============================] - 4s 10ms/step - loss: 0.7120 - accuracy: 0.6659 - val_loss: 0.7387 - val_accuracy: 0.6686\n",
      "Epoch 9/15\n",
      "419/419 [==============================] - 6s 15ms/step - loss: 0.6914 - accuracy: 0.6801 - val_loss: 0.7297 - val_accuracy: 0.6775\n",
      "Epoch 10/15\n",
      "419/419 [==============================] - 6s 15ms/step - loss: 0.6743 - accuracy: 0.6864 - val_loss: 0.7220 - val_accuracy: 0.6822\n",
      "Epoch 11/15\n",
      "419/419 [==============================] - 6s 15ms/step - loss: 0.6581 - accuracy: 0.6956 - val_loss: 0.7207 - val_accuracy: 0.6830\n",
      "Epoch 12/15\n",
      "419/419 [==============================] - 6s 14ms/step - loss: 0.6441 - accuracy: 0.7032 - val_loss: 0.7140 - val_accuracy: 0.6754\n",
      "Epoch 13/15\n",
      "419/419 [==============================] - 4s 10ms/step - loss: 0.6303 - accuracy: 0.7067 - val_loss: 0.7096 - val_accuracy: 0.6826\n",
      "Epoch 14/15\n",
      "419/419 [==============================] - 4s 10ms/step - loss: 0.6182 - accuracy: 0.7130 - val_loss: 0.7105 - val_accuracy: 0.6835\n",
      "Epoch 15/15\n",
      "419/419 [==============================] - 4s 10ms/step - loss: 0.6066 - accuracy: 0.7203 - val_loss: 0.7052 - val_accuracy: 0.6868\n"
     ]
    }
   ],
   "source": [
    "history = model.fit(X_train, y_train, batch_size=32, verbose=1, epochs=15, validation_data=(X_val, y_val), validation_batch_size=1)"
   ]
  },
  {
   "cell_type": "code",
   "execution_count": 26,
   "metadata": {
    "id": "d4ebx37WlPl0"
   },
   "outputs": [],
   "source": [
    "def plot_accuracy(history):\n",
    "  plt.plot(history.history['accuracy'])\n",
    "  plt.plot(history.history['val_accuracy'])\n",
    "  plt.title('model accuracy')\n",
    "  plt.ylabel('accuracy')\n",
    "  plt.xlabel('epoch')\n",
    "  plt.legend(['train', 'test'], loc='upper left')\n",
    "  plt.show()\n",
    "  # summarize history for loss\n",
    "  plt.plot(history.history['loss'])\n",
    "  plt.plot(history.history['val_loss'])\n",
    "  plt.title('model loss')\n",
    "  plt.ylabel('loss')\n",
    "  plt.xlabel('epoch')\n",
    "  plt.legend(['train', 'test'], loc='upper left')\n",
    "  plt.show()"
   ]
  },
  {
   "cell_type": "code",
   "execution_count": 27,
   "metadata": {
    "colab": {
     "base_uri": "https://localhost:8080/",
     "height": 735
    },
    "id": "VDP3-UuhlgVo",
    "outputId": "e70c1733-dea3-489a-f1c6-e6f5a70bf9cb"
   },
   "outputs": [
    {
     "data": {
      "image/png": "[encoded data removed]",
      "text/plain": [
       "<Figure size 576x396 with 1 Axes>"
      ]
     },
     "metadata": {},
     "output_type": "display_data"
    },
    {
     "data": {
      "image/png": "[encoded data removed]",
      "text/plain": [
       "<Figure size 576x396 with 1 Axes>"
      ]
     },
     "metadata": {},
     "output_type": "display_data"
    }
   ],
   "source": [
    "plot_accuracy(history)"
   ]
  },
  {
   "cell_type": "code",
   "execution_count": 28,
   "metadata": {
    "colab": {
     "base_uri": "https://localhost:8080/"
    },
    "id": "o4aispBAlAi2",
    "outputId": "8291dc6f-f50c-4b3a-81cc-e933c740c688"
   },
   "outputs": [
    {
     "name": "stdout",
     "output_type": "stream",
     "text": [
      "{'N': [1033, 1174], 'S': [533, 900], 'V': [393, 706], 'Total': [1959, 2780]}\n",
      "-----------------------------------\n",
      "NN\n",
      "Accuracy for N: 0.8798977853492334\n",
      "Accuracy for V: 0.556657223796034\n",
      "Accuracy for S: 0.5922222222222222\n",
      "Total accuracy, Acc_T = 0.7047\n",
      "Arrhythmia accuracy, Acc_A = 0.5766\n",
      "-----------------------------------\n"
     ]
    },
    {
     "data": {
      "text/plain": [
       "(0.7046762589928057, 0.5765877957658779)"
      ]
     },
     "execution_count": 28,
     "metadata": {},
     "output_type": "execute_result"
    }
   ],
   "source": [
    "categories = encoder.categories_[0]\n",
    "y_pred = model.predict(X_test)\n",
    "calculate_accuracy(y_pred, y_test, categories= categories, comment='NN', network=True)"
   ]
  },
  {
   "cell_type": "markdown",
   "metadata": {
    "id": "89uf1sM9lrcY"
   },
   "source": [
    "#CNN"
   ]
  },
  {
   "cell_type": "code",
   "execution_count": 29,
   "metadata": {
    "id": "gU__mrfJlpGi"
   },
   "outputs": [],
   "source": [
    "cce = losses.CategoricalCrossentropy()\n",
    "opt = SGD(\n",
    "    learning_rate=0.005, momentum=0.0, nesterov=False, name=\"SGD\")\n",
    "def build_model():\n",
    "  model = models.Sequential()\n",
    "  model.add(layers.Conv1D(64, 3, 1, activation='relu', input_shape=(X_train.shape[1],1)))\n",
    "  model.add(layers.MaxPooling1D(pool_size=2))\n",
    "  model.add(layers.Conv1D(48, 3, activation='relu'))\n",
    "  model.add(layers.MaxPooling1D(pool_size=2))\n",
    "  model.add(layers.Conv1D(32, 2, activation='relu'))\n",
    "  model.add(layers.Flatten())\n",
    "  # activation='relu', input_shape=input_shape[2:])(x)\n",
    "  model.add(layers.Dense(32, activation='relu',))\n",
    "  model.add(layers.Dropout(0.3,))\n",
    "  model.add(layers.Dense(16, activation='relu',))\n",
    "  model.add(layers.Dense(8, activation='relu',))\n",
    "  # model.add(layers.Dropout(0.4,))\n",
    "  # model.add(layers.Dense(16, activation='elu',))\n",
    "  model.add(layers.Dense(3, activation='softmax',))\n",
    "  model.compile(optimizer=opt, loss=cce, metrics=['accuracy'])\n",
    "  return model"
   ]
  },
  {
   "cell_type": "code",
   "execution_count": 30,
   "metadata": {
    "id": "cPspWCTxqEde"
   },
   "outputs": [],
   "source": [
    "model = build_model()"
   ]
  },
  {
   "cell_type": "code",
   "execution_count": 31,
   "metadata": {
    "colab": {
     "base_uri": "https://localhost:8080/"
    },
    "id": "8paPk_nxqIZf",
    "outputId": "448eebaf-1bb6-4c49-c35b-343d5c9e730a"
   },
   "outputs": [
    {
     "name": "stdout",
     "output_type": "stream",
     "text": [
      "Epoch 1/37\n",
      "419/419 [==============================] - 8s 16ms/step - loss: 1.0918 - accuracy: 0.4000 - val_loss: 1.0817 - val_accuracy: 0.4143\n",
      "Epoch 2/37\n",
      "419/419 [==============================] - 6s 14ms/step - loss: 1.0797 - accuracy: 0.4093 - val_loss: 1.0671 - val_accuracy: 0.4346\n",
      "Epoch 3/37\n",
      "419/419 [==============================] - 6s 15ms/step - loss: 1.0661 - accuracy: 0.4437 - val_loss: 1.0445 - val_accuracy: 0.4816\n",
      "Epoch 4/37\n",
      "419/419 [==============================] - 7s 16ms/step - loss: 1.0436 - accuracy: 0.4746 - val_loss: 1.0074 - val_accuracy: 0.4989\n",
      "Epoch 5/37\n",
      "419/419 [==============================] - 7s 16ms/step - loss: 1.0071 - accuracy: 0.5003 - val_loss: 0.9657 - val_accuracy: 0.5438\n",
      "Epoch 6/37\n",
      "419/419 [==============================] - 13s 30ms/step - loss: 0.9719 - accuracy: 0.5204 - val_loss: 0.9281 - val_accuracy: 0.5472\n",
      "Epoch 7/37\n",
      "419/419 [==============================] - 7s 16ms/step - loss: 0.9424 - accuracy: 0.5330 - val_loss: 0.9117 - val_accuracy: 0.5650\n",
      "Epoch 8/37\n",
      "419/419 [==============================] - 6s 14ms/step - loss: 0.9172 - accuracy: 0.5460 - val_loss: 0.8831 - val_accuracy: 0.5781\n",
      "Epoch 9/37\n",
      "419/419 [==============================] - 7s 16ms/step - loss: 0.8906 - accuracy: 0.5688 - val_loss: 0.8553 - val_accuracy: 0.5802\n",
      "Epoch 10/37\n",
      "419/419 [==============================] - 6s 15ms/step - loss: 0.8703 - accuracy: 0.5817 - val_loss: 0.8317 - val_accuracy: 0.6276\n",
      "Epoch 11/37\n",
      "419/419 [==============================] - 7s 16ms/step - loss: 0.8455 - accuracy: 0.6012 - val_loss: 0.7965 - val_accuracy: 0.6433\n",
      "Epoch 12/37\n",
      "419/419 [==============================] - 7s 16ms/step - loss: 0.8268 - accuracy: 0.6106 - val_loss: 0.7750 - val_accuracy: 0.6475\n",
      "Epoch 13/37\n",
      "419/419 [==============================] - 7s 16ms/step - loss: 0.8077 - accuracy: 0.6189 - val_loss: 0.8346 - val_accuracy: 0.6077\n",
      "Epoch 14/37\n",
      "419/419 [==============================] - 6s 14ms/step - loss: 0.7877 - accuracy: 0.6301 - val_loss: 0.7629 - val_accuracy: 0.6479\n",
      "Epoch 15/37\n",
      "419/419 [==============================] - 7s 16ms/step - loss: 0.7762 - accuracy: 0.6382 - val_loss: 0.7320 - val_accuracy: 0.6746\n",
      "Epoch 16/37\n",
      "419/419 [==============================] - 6s 14ms/step - loss: 0.7625 - accuracy: 0.6470 - val_loss: 0.7200 - val_accuracy: 0.6737\n",
      "Epoch 17/37\n",
      "419/419 [==============================] - 7s 16ms/step - loss: 0.7530 - accuracy: 0.6460 - val_loss: 0.6945 - val_accuracy: 0.6898\n",
      "Epoch 18/37\n",
      "419/419 [==============================] - 7s 16ms/step - loss: 0.7355 - accuracy: 0.6565 - val_loss: 0.6858 - val_accuracy: 0.6953\n",
      "Epoch 19/37\n",
      "419/419 [==============================] - 7s 18ms/step - loss: 0.7271 - accuracy: 0.6640 - val_loss: 0.6679 - val_accuracy: 0.6978\n",
      "Epoch 20/37\n",
      "419/419 [==============================] - 6s 14ms/step - loss: 0.7181 - accuracy: 0.6700 - val_loss: 0.6628 - val_accuracy: 0.7004\n",
      "Epoch 21/37\n",
      "419/419 [==============================] - 7s 16ms/step - loss: 0.7080 - accuracy: 0.6736 - val_loss: 0.6542 - val_accuracy: 0.7038\n",
      "Epoch 22/37\n",
      "419/419 [==============================] - 7s 16ms/step - loss: 0.6984 - accuracy: 0.6804 - val_loss: 0.6519 - val_accuracy: 0.7042\n",
      "Epoch 23/37\n",
      "419/419 [==============================] - 7s 16ms/step - loss: 0.6917 - accuracy: 0.6810 - val_loss: 0.6364 - val_accuracy: 0.7042\n",
      "Epoch 24/37\n",
      "419/419 [==============================] - 7s 16ms/step - loss: 0.6863 - accuracy: 0.6817 - val_loss: 0.6402 - val_accuracy: 0.7038\n",
      "Epoch 25/37\n",
      "419/419 [==============================] - 6s 14ms/step - loss: 0.6774 - accuracy: 0.6851 - val_loss: 0.6320 - val_accuracy: 0.7080\n",
      "Epoch 26/37\n",
      "419/419 [==============================] - 6s 14ms/step - loss: 0.6720 - accuracy: 0.6858 - val_loss: 0.6263 - val_accuracy: 0.7055\n",
      "Epoch 27/37\n",
      "419/419 [==============================] - 6s 14ms/step - loss: 0.6663 - accuracy: 0.6889 - val_loss: 0.6201 - val_accuracy: 0.7080\n",
      "Epoch 28/37\n",
      "419/419 [==============================] - 7s 16ms/step - loss: 0.6529 - accuracy: 0.7008 - val_loss: 0.6074 - val_accuracy: 0.7215\n",
      "Epoch 29/37\n",
      "419/419 [==============================] - 7s 16ms/step - loss: 0.6524 - accuracy: 0.7026 - val_loss: 0.6062 - val_accuracy: 0.7283\n",
      "Epoch 30/37\n",
      "419/419 [==============================] - 7s 16ms/step - loss: 0.6485 - accuracy: 0.7023 - val_loss: 0.6214 - val_accuracy: 0.7266\n",
      "Epoch 31/37\n",
      "419/419 [==============================] - 6s 14ms/step - loss: 0.6442 - accuracy: 0.7011 - val_loss: 0.5944 - val_accuracy: 0.7347\n",
      "Epoch 32/37\n",
      "419/419 [==============================] - 7s 16ms/step - loss: 0.6346 - accuracy: 0.7103 - val_loss: 0.5935 - val_accuracy: 0.7321\n",
      "Epoch 33/37\n",
      "419/419 [==============================] - 6s 14ms/step - loss: 0.6302 - accuracy: 0.7064 - val_loss: 0.5916 - val_accuracy: 0.7287\n",
      "Epoch 34/37\n",
      "419/419 [==============================] - 7s 16ms/step - loss: 0.6292 - accuracy: 0.7097 - val_loss: 0.5898 - val_accuracy: 0.7313\n",
      "Epoch 35/37\n",
      "419/419 [==============================] - 7s 16ms/step - loss: 0.6171 - accuracy: 0.7179 - val_loss: 0.5920 - val_accuracy: 0.7342\n",
      "Epoch 36/37\n",
      "419/419 [==============================] - 7s 17ms/step - loss: 0.6112 - accuracy: 0.7269 - val_loss: 0.5906 - val_accuracy: 0.7385\n",
      "Epoch 37/37\n",
      "419/419 [==============================] - 9s 21ms/step - loss: 0.6091 - accuracy: 0.7238 - val_loss: 0.5901 - val_accuracy: 0.7351\n"
     ]
    }
   ],
   "source": [
    "model = build_model()\n",
    "history = model.fit(X_train, y_train, batch_size=32, verbose=1, epochs=37, validation_data=(X_val, y_val), validation_batch_size=1)"
   ]
  },
  {
   "cell_type": "code",
   "execution_count": 32,
   "metadata": {
    "colab": {
     "base_uri": "https://localhost:8080/",
     "height": 735
    },
    "id": "Fnn97jSNqLCt",
    "outputId": "87b4ca89-a055-45ff-a3a7-6d82798e6341"
   },
   "outputs": [
    {
     "data": {
      "image/png": "[encoded data removed]",
      "text/plain": [
       "<Figure size 576x396 with 1 Axes>"
      ]
     },
     "metadata": {},
     "output_type": "display_data"
    },
    {
     "data": {
      "image/png": "[encoded data removed]",
      "text/plain": [
       "<Figure size 576x396 with 1 Axes>"
      ]
     },
     "metadata": {},
     "output_type": "display_data"
    }
   ],
   "source": [
    "plot_accuracy(history)"
   ]
  },
  {
   "cell_type": "code",
   "execution_count": 33,
   "metadata": {
    "colab": {
     "base_uri": "https://localhost:8080/"
    },
    "id": "7WjxA5xTwoB4",
    "outputId": "63b6f342-4053-4a9a-822d-49334aeca5bd"
   },
   "outputs": [
    {
     "name": "stdout",
     "output_type": "stream",
     "text": [
      "{'N': [1023, 1174], 'S': [567, 900], 'V': [444, 706], 'Total': [2034, 2780]}\n",
      "-----------------------------------\n",
      "CNN\n",
      "Accuracy for N: 0.8713798977853492\n",
      "Accuracy for V: 0.6288951841359773\n",
      "Accuracy for S: 0.63\n",
      "Total accuracy, Acc_T = 0.7317\n",
      "Arrhythmia accuracy, Acc_A = 0.6295\n",
      "-----------------------------------\n"
     ]
    },
    {
     "data": {
      "text/plain": [
       "(0.7316546762589928, 0.6295143212951432)"
      ]
     },
     "execution_count": 33,
     "metadata": {},
     "output_type": "execute_result"
    }
   ],
   "source": [
    "categories = encoder.categories_[0]\n",
    "y_pred = model.predict(X_test)\n",
    "calculate_accuracy(y_pred, y_test, categories= categories, comment='CNN', network=True)\n"
   ]
  },
  {
   "cell_type": "markdown",
   "metadata": {
    "id": "x6IS5-WvFViO"
   },
   "source": [
    "# Comparison"
   ]
  },
  {
   "cell_type": "markdown",
   "metadata": {
    "id": "i8G2ErmkFrNc"
   },
   "source": [
    "## Best ones:<br>\n",
    "\n",
    "### SVM classifier\n",
    "\n",
    "Accuracy for N: 0.8818681318681318<br>\n",
    "Accuracy for V: 0.5865257595772787<br>\n",
    "Accuracy for S: 0.6100966702470462<br>\n",
    "#### Total accuracy, Acc_T = 0.7104<br>\n",
    "#### Arrhythmia accuracy, Acc_A = 0.5995\n",
    "\n",
    "\n",
    "### Balanced SVM classifier<br>\n",
    "\n",
    "Accuracy for N: 0.8379120879120879<br>\n",
    "Accuracy for V: 0.6631439894319683<br>\n",
    "Accuracy for S: 0.5929108485499462<br>\n",
    "#### Total accuracy, Acc_T = 0.7083<br>\n",
    "#### Arrhythmia accuracy, Acc_A = 0.6244<br>\n",
    "\n",
    "### Random Forest classifier<br>\n",
    "Accuracy for N: 0.8498168498168498<br>\n",
    "Accuracy for V: 0.5363276089828269<br>\n",
    "Accuracy for S: 0.32116004296455425<br>\n",
    "#### Total accuracy, Acc_T = 0.5874<br>\n",
    "#### Arrhythmia accuracy, Acc_A = 0.4177<br>\n",
    "\n",
    "### Extra Trees classifier<br>\n",
    "Accuracy for N: 0.8598901098901099<br>\n",
    "Accuracy for V: 0.6340819022457067<br>\n",
    "Accuracy for S: 0.6885069817400644<br>\n",
    "#### Total accuracy, Acc_T = 0.7410<br>\n",
    "#### Arrhythmia accuracy, Acc_A = 0.6641<br>\n",
    "\n",
    "### NN<br>\n",
    "Accuracy for N: 0.8798977853492334<br>\n",
    "Accuracy for V: 0.556657223796034<br>\n",
    "Accuracy for S: 0.5922222222222222<br>\n",
    "#### Total accuracy, Acc_T = 0.7047<br>\n",
    "#### Arrhythmia accuracy, Acc_A = 0.5766<br>\n",
    "\n",
    "### CNN\n",
    "Accuracy for N: 0.8713798977853492<br>\n",
    "Accuracy for V: 0.6288951841359773<br>\n",
    "Accuracy for S: 0.63<br>\n",
    "#### # Total accuracy, Acc_T = 0.7317<br>\n",
    "#### Arrhythmia accuracy, Acc_A = 0.6295<br>"
   ]
  },
  {
   "cell_type": "markdown",
   "metadata": {
    "id": "ym-rN2V6GdQm"
   },
   "source": [
    "### The best result got a Extra Trees classifier"
   ]
  }
 ],
 "metadata": {
  "accelerator": "GPU",
  "colab": {
   "collapsed_sections": [],
   "name": "EKG_classification",
   "provenance": []
  },
  "gpuClass": "standard",
  "kernelspec": {
   "display_name": "Python 3",
   "language": "python",
   "name": "python3"
  },
  "language_info": {
   "codemirror_mode": {
    "name": "ipython",
    "version": 3
   },
   "file_extension": ".py",
   "mimetype": "text/x-python",
   "name": "python",
   "nbconvert_exporter": "python",
   "pygments_lexer": "ipython3",
   "version": "3.8.5"
  }
 },
 "nbformat": 4,
 "nbformat_minor": 1
}
